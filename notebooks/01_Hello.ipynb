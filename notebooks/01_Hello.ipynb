{
 "cells": [
  {
   "cell_type": "code",
   "execution_count": 3,
   "metadata": {
    "execution": {
     "iopub.execute_input": "2024-12-20T09:16:56.568592Z",
     "iopub.status.busy": "2024-12-20T09:16:56.567869Z",
     "iopub.status.idle": "2024-12-20T09:16:56.574269Z",
     "shell.execute_reply": "2024-12-20T09:16:56.573403Z",
     "shell.execute_reply.started": "2024-12-20T09:16:56.568555Z"
    }
   },
   "outputs": [],
   "source": [
    "from kaggle_cryoet.main import main"
   ]
  },
  {
   "cell_type": "code",
   "execution_count": 4,
   "metadata": {
    "execution": {
     "iopub.execute_input": "2024-12-20T09:16:57.155756Z",
     "iopub.status.busy": "2024-12-20T09:16:57.155204Z",
     "iopub.status.idle": "2024-12-20T09:16:57.160132Z",
     "shell.execute_reply": "2024-12-20T09:16:57.159334Z",
     "shell.execute_reply.started": "2024-12-20T09:16:57.155700Z"
    }
   },
   "outputs": [
    {
     "name": "stdout",
     "output_type": "stream",
     "text": [
      "Hello Kaggle!\n"
     ]
    }
   ],
   "source": [
    "main()"
   ]
  },
  {
   "cell_type": "code",
   "execution_count": null,
   "metadata": {},
   "outputs": [],
   "source": []
  }
 ],
 "metadata": {
  "kernelspec": {
   "display_name": "Python 3 (ipykernel)",
   "language": "python",
   "name": "python3"
  },
  "language_info": {
   "codemirror_mode": {
    "name": "ipython",
    "version": 3
   },
   "file_extension": ".py",
   "mimetype": "text/x-python",
   "name": "python",
   "nbconvert_exporter": "python",
   "pygments_lexer": "ipython3",
   "version": "3.12.4"
  }
 },
 "nbformat": 4,
 "nbformat_minor": 4
}
